{
  "nbformat": 4,
  "nbformat_minor": 0,
  "metadata": {
    "colab": {
      "name": "だめだねメーカー／Damedane Maker",
      "provenance": [],
      "include_colab_link": true
    },
    "kernelspec": {
      "name": "python3",
      "display_name": "Python 3"
    },
    "accelerator": "GPU"
  },
  "cells": [
    {
      "cell_type": "markdown",
      "metadata": {
        "id": "view-in-github",
        "colab_type": "text"
      },
      "source": [
        "<a href=\"https://colab.research.google.com/github/waya0125/test/blob/main/%E3%81%A0%E3%82%81%E3%81%A0%E3%81%AD%E3%83%A1%E3%83%BC%E3%82%AB%E3%83%BC%EF%BC%8FDamedane_Maker.ipynb\" target=\"_parent\"><img src=\"https://colab.research.google.com/assets/colab-badge.svg\" alt=\"Open In Colab\"/></a>"
      ]
    },
    {
      "cell_type": "markdown",
      "metadata": {
        "id": "cdO_RxQZLahB"
      },
      "source": [
        "# だめだねメーカー／Damedane Maker\n",
        "\n",
        "順次に２つの▶ボタンを押して数十秒間経つとアップロードボタンが現れます。生成するにはまた数十秒ほどかかります。\n",
        "\n",
        "Press the 2 ▶ buttons in order and an upload button will appear after tens of seconds. It takes another dozens of seconds to generate."
      ]
    },
    {
      "cell_type": "code",
      "metadata": {
        "id": "UCMFMJV7K-ag"
      },
      "source": [
        "!pip install PyYAML wget ipywidgets gdown ffmpy &> /dev/null\n",
        "!git init -q .\n",
        "!git remote add origin https://github.com/AliaksandrSiarohin/first-order-model\n",
        "!git pull -q origin master"
      ],
      "execution_count": null,
      "outputs": []
    },
    {
      "cell_type": "code",
      "metadata": {
        "id": "Oxi6-riLOgnm"
      },
      "source": [
        "import IPython.display\n",
        "import PIL.Image\n",
        "import cv2\n",
        "import gdown\n",
        "import imageio\n",
        "import io\n",
        "import ipywidgets\n",
        "import matplotlib.animation as animation\n",
        "import matplotlib.pyplot as plt\n",
        "import numpy as np\n",
        "import os\n",
        "import os.path\n",
        "import time\n",
        "import warnings\n",
        "from base64 import b64encode\n",
        "from demo import load_checkpoints, make_animation\n",
        "from ffmpy import FFmpeg\n",
        "from google.colab import files\n",
        "from skimage import img_as_ubyte\n",
        "from skimage.transform import resize\n",
        "warnings.filterwarnings(\"ignore\")\n",
        "if not os.path.isfile('original.mp4'):\n",
        "    gdown.download('https://drive.google.com/uc?export=download&id=1M1ZXaMjUg2WAdf3OrQ3aBYC_3Dv15fqE', 'original.mp4', quiet=True)\n",
        "if not os.path.isfile('vox-cpk.pth.tar'):\n",
        "    gdown.download('https://drive.google.com/uc?export=download&id=1DbjXD2nS3jlyCWoJu2HGcLZZjhLC9a2J', 'vox-cpk.pth.tar', quiet=True)\n",
        "reader = imageio.get_reader('original.mp4')\n",
        "fps = reader.get_meta_data()['fps']\n",
        "driving_video = []\n",
        "try:\n",
        "    for im in reader:\n",
        "        driving_video.append(im)\n",
        "except:\n",
        "    pass\n",
        "reader.close()\n",
        "driving_video = [resize(frame, (256, 256))[:, :, 0:3] for frame in driving_video]\n",
        "input_image_widget = ipywidgets.Output(layout={'border': '1px solid gray', 'width': '256px', 'height': '256px'})\n",
        "upload_input_image_button = ipywidgets.FileUpload(accept='image/*', multiple=False, layout={'width': '256px'})\n",
        "output_video_widget = ipywidgets.Output(layout={'border': '1px solid gray', 'width': '256px', 'height': '256px'})\n",
        "download_output_video_button = ipywidgets.Button(description='Download', layout={'width': '256px'})\n",
        "download_output_video_button.disabled = True\n",
        "display(ipywidgets.HBox([ipywidgets.VBox([input_image_widget, upload_input_image_button]), ipywidgets.VBox([output_video_widget, download_output_video_button])]))\n",
        "def upload_image(change):\n",
        "    for name, file in upload_input_image_button.value.items():\n",
        "        input = file['content']\n",
        "    if input is None:\n",
        "        return\n",
        "    download_output_video_button.disabled = True\n",
        "    input = PIL.Image.open(io.BytesIO(input))\n",
        "    w, h = input.size\n",
        "    d = min(w, h)\n",
        "    input.resize((256, 256), resample=PIL.Image.LANCZOS, box=((w - d) // 2, (h - d) // 2, (w + d) // 2, (h + d) // 2)).save('temp.png')\n",
        "    input = resize(imageio.imread('temp.png'), (256, 256))[:, :, 0:3]\n",
        "    input_image_widget.clear_output(wait=True)\n",
        "    with input_image_widget:\n",
        "        display(PIL.Image.open('temp.png'))\n",
        "    output_video_widget.clear_output()\n",
        "    generator, kp_detector = load_checkpoints(config_path='config/vox-256.yaml', checkpoint_path='vox-cpk.pth.tar')\n",
        "    predictions = make_animation(input, driving_video, generator, kp_detector, relative=True)\n",
        "    imageio.mimsave('output.mp4', [img_as_ubyte(frame) for frame in predictions], fps=fps)\n",
        "    FFmpeg(inputs={'output.mp4': None, 'original.mp4': None}, outputs={'damedane.mp4': '-c copy -y'}).run()\n",
        "    with output_video_widget:\n",
        "        display(IPython.display.HTML('<video controls src=\"data:video/mp4;base64,%s\" />' % b64encode(open('damedane.mp4', 'rb').read()).decode()))\n",
        "    download_output_video_button.disabled = False\n",
        "def download_video(button):\n",
        "    files.download('damedane.mp4')\n",
        "upload_input_image_button.observe(upload_image, names='value')\n",
        "download_output_video_button.on_click(download_video)"
      ],
      "execution_count": null,
      "outputs": []
    },
    {
      "cell_type": "markdown",
      "metadata": {
        "id": "-JAZCjNQdhOR"
      },
      "source": [
        "無編集の状態で動画を共有する場合は下の▶ボタンを押して約１分間お待ちください。サイズ 1920×1080 の動画が生成されます。\n",
        "\n",
        "Press the ▶ button below and wait for about a minute for video sharing without editing. A video with size 1920×1080 will be generated."
      ]
    },
    {
      "cell_type": "code",
      "metadata": {
        "id": "jZkqgalpdzK5"
      },
      "source": [
        "FFmpeg(inputs={'damedane.mp4': None}, outputs={'damedane_1920x1080.mp4': '-vf \"scale=1080x1080:flags=lanczos,pad=1920:1080:420:0\" -y'}).run()\n",
        "files.download('damedane_1920x1080.mp4')"
      ],
      "execution_count": null,
      "outputs": []
    }
  ]
}